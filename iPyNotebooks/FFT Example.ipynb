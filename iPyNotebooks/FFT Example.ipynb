{
 "cells": [
  {
   "cell_type": "code",
   "execution_count": 39,
   "metadata": {
    "collapsed": false
   },
   "outputs": [
    {
     "data": {
      "image/png": "[encoded data removed]",
      "text/plain": [
       "<matplotlib.figure.Figure at 0xcf6e7f0>"
      ]
     },
     "metadata": {},
     "output_type": "display_data"
    }
   ],
   "source": [
    "%matplotlib inline\n",
    "\n",
    "import matplotlib.pyplot as plt\n",
    "from scipy.fftpack import fft\n",
    "from scipy.io import wavfile # get the api\n",
    "fs, data = wavfile.read('a2002011001-e02.wav') # load the data\n",
    "a = data.T[0] # this is a two channel soundtrack, I get the first track\n",
    "b=[(ele/2**8.)*2-1 for ele in a] # this is 8-bit track, b is now normalized on [-1,1)\n",
    "c = fft(b) # calculate fourier transform (complex numbers list)\n",
    "d = len(c)/2  # you only need half of the fft list (real signal symmetry)\n",
    "plt.plot(abs(c[:(d-1)]),'r') \n",
    "plt.title(\"Bach - Frequency Domain\")\n",
    "plt.show()\n"
   ]
  },
  {
   "cell_type": "code",
   "execution_count": 143,
   "metadata": {
    "collapsed": false
   },
   "outputs": [
    {
     "data": {
      "text/html": [
       "<div>\n",
       "<table border=\"1\" class=\"dataframe\">\n",
       "  <thead>\n",
       "    <tr style=\"text-align: right;\">\n",
       "      <th>freqBand</th>\n",
       "      <th>-2310000.0</th>\n",
       "      <th>-2200000.0</th>\n",
       "      <th>-2140000.0</th>\n",
       "      <th>-2040000.0</th>\n",
       "      <th>-1980000.0</th>\n",
       "      <th>-1930000.0</th>\n",
       "      <th>-1910000.0</th>\n",
       "      <th>-1880000.0</th>\n",
       "      <th>-1830000.0</th>\n",
       "      <th>-1790000.0</th>\n",
       "      <th>...</th>\n",
       "      <th>1780000.0</th>\n",
       "      <th>1820000.0</th>\n",
       "      <th>1870000.0</th>\n",
       "      <th>1900000.0</th>\n",
       "      <th>1920000.0</th>\n",
       "      <th>1970000.0</th>\n",
       "      <th>2030000.0</th>\n",
       "      <th>2130000.0</th>\n",
       "      <th>2190000.0</th>\n",
       "      <th>2300000.0</th>\n",
       "    </tr>\n",
       "    <tr>\n",
       "      <th>slice</th>\n",
       "      <th></th>\n",
       "      <th></th>\n",
       "      <th></th>\n",
       "      <th></th>\n",
       "      <th></th>\n",
       "      <th></th>\n",
       "      <th></th>\n",
       "      <th></th>\n",
       "      <th></th>\n",
       "      <th></th>\n",
       "      <th></th>\n",
       "      <th></th>\n",
       "      <th></th>\n",
       "      <th></th>\n",
       "      <th></th>\n",
       "      <th></th>\n",
       "      <th></th>\n",
       "      <th></th>\n",
       "      <th></th>\n",
       "      <th></th>\n",
       "      <th></th>\n",
       "    </tr>\n",
       "  </thead>\n",
       "  <tbody>\n",
       "    <tr>\n",
       "      <th>1</th>\n",
       "      <td>1.474192e+06</td>\n",
       "      <td>107204.522978</td>\n",
       "      <td>875435.956266</td>\n",
       "      <td>810488.178284</td>\n",
       "      <td>1.292834e+06</td>\n",
       "      <td>18647.151233</td>\n",
       "      <td>330075.586474</td>\n",
       "      <td>528130.206614</td>\n",
       "      <td>574741.869121</td>\n",
       "      <td>-944507.116573</td>\n",
       "      <td>...</td>\n",
       "      <td>-944507.116573</td>\n",
       "      <td>574741.869121</td>\n",
       "      <td>528130.206614</td>\n",
       "      <td>330075.586474</td>\n",
       "      <td>18647.151233</td>\n",
       "      <td>1.292834e+06</td>\n",
       "      <td>810488.178284</td>\n",
       "      <td>875435.956266</td>\n",
       "      <td>107204.522978</td>\n",
       "      <td>1.474192e+06</td>\n",
       "    </tr>\n",
       "  </tbody>\n",
       "</table>\n",
       "<p>1 rows × 350 columns</p>\n",
       "</div>"
      ],
      "text/plain": [
       "freqBand    -2310000.0     -2200000.0     -2140000.0     -2040000.0  \\\n",
       "slice                                                                 \n",
       "1         1.474192e+06  107204.522978  875435.956266  810488.178284   \n",
       "\n",
       "freqBand    -1980000.0    -1930000.0     -1910000.0     -1880000.0  \\\n",
       "slice                                                                \n",
       "1         1.292834e+06  18647.151233  330075.586474  528130.206614   \n",
       "\n",
       "freqBand     -1830000.0     -1790000.0      ...           1780000.0  \\\n",
       "slice                                       ...                       \n",
       "1         574741.869121 -944507.116573      ...      -944507.116573   \n",
       "\n",
       "freqBand      1820000.0      1870000.0      1900000.0     1920000.0  \\\n",
       "slice                                                                 \n",
       "1         574741.869121  528130.206614  330075.586474  18647.151233   \n",
       "\n",
       "freqBand     1970000.0      2030000.0      2130000.0      2190000.0  \\\n",
       "slice                                                                 \n",
       "1         1.292834e+06  810488.178284  875435.956266  107204.522978   \n",
       "\n",
       "freqBand     2300000.0  \n",
       "slice                   \n",
       "1         1.474192e+06  \n",
       "\n",
       "[1 rows x 350 columns]"
      ]
     },
     "execution_count": 143,
     "metadata": {},
     "output_type": "execute_result"
    }
   ],
   "source": [
    "import cmath\n",
    "import pandas as pd\n",
    "import math\n",
    "import numpy as np\n",
    "\n",
    "def fftTransform(wavFile, slice):\n",
    "    fs, data = wavfile.read(wavFile) # load the data\n",
    "    a = data.T[0] # this is a two channel soundtrack, I get the first track\n",
    "    b=[(ele/2**8.)*2-1 for ele in a] # this is 8-bit track, b is now normalized on [-1,1)\n",
    "    c = fft(b) # calculate fourier transform (complex numbers list)\n",
    "    d = len(c)/2  # you only need half of the fft list (real signal symmetry)\n",
    "    data = pd.DataFrame([{\"amplitude\": x.real, \"frequency\": x.imag} for x in c])\n",
    "    data[d-1:]\n",
    "    data[\"slice\"] = slice\n",
    "    data[\"freqBand\"] = data.frequency.map(lambda x: np.floor(x /10000) * 10000)\n",
    "    dat2 = data.dropna().groupby(\"freqBand\").mean().reset_index()\n",
    "    dat3 = dat2.pivot(values='amplitude', index='slice', columns = 'freqBand')\n",
    "    return dat3\n",
    "\n",
    "dat = fftTransform('a2002011001-e02.wav', 1)\n",
    "dat\n",
    "# dat[\"freqBand\"] = dat.frequency.map(lambda x: np.floor(x /1000) * 1000)\n",
    "# dat2 = dat.dropna().groupby(\"freqBand\").mean().reset_index()\n",
    "# dat3 = dat2.pivot(values='amplitude', index='slice', columns = 'freqBand')\n",
    "\n"
   ]
  },
  {
   "cell_type": "code",
   "execution_count": 123,
   "metadata": {
    "collapsed": false
   },
   "outputs": [
    {
     "data": {
      "text/html": [
       "<div>\n",
       "<table border=\"1\" class=\"dataframe\">\n",
       "  <thead>\n",
       "    <tr style=\"text-align: right;\">\n",
       "      <th>freqBand</th>\n",
       "      <th>slice</th>\n",
       "      <th>-2301000.0</th>\n",
       "      <th>-2196000.0</th>\n",
       "      <th>-2136000.0</th>\n",
       "      <th>-2036000.0</th>\n",
       "      <th>-1977000.0</th>\n",
       "      <th>-1926000.0</th>\n",
       "      <th>-1902000.0</th>\n",
       "      <th>-1880000.0</th>\n",
       "      <th>-1873000.0</th>\n",
       "      <th>...</th>\n",
       "      <th>1825000.0</th>\n",
       "      <th>1872000.0</th>\n",
       "      <th>1879000.0</th>\n",
       "      <th>1901000.0</th>\n",
       "      <th>1925000.0</th>\n",
       "      <th>1976000.0</th>\n",
       "      <th>2035000.0</th>\n",
       "      <th>2135000.0</th>\n",
       "      <th>2195000.0</th>\n",
       "      <th>2300000.0</th>\n",
       "    </tr>\n",
       "  </thead>\n",
       "  <tbody>\n",
       "    <tr>\n",
       "      <th>0</th>\n",
       "      <td>1</td>\n",
       "      <td>1.474192e+06</td>\n",
       "      <td>107204.522978</td>\n",
       "      <td>875435.956266</td>\n",
       "      <td>810488.178284</td>\n",
       "      <td>1.292834e+06</td>\n",
       "      <td>18647.151233</td>\n",
       "      <td>330075.586474</td>\n",
       "      <td>-410565.546199</td>\n",
       "      <td>1.466826e+06</td>\n",
       "      <td>...</td>\n",
       "      <td>608339.812843</td>\n",
       "      <td>1.466826e+06</td>\n",
       "      <td>-410565.546199</td>\n",
       "      <td>330075.586474</td>\n",
       "      <td>18647.151233</td>\n",
       "      <td>1.292834e+06</td>\n",
       "      <td>810488.178284</td>\n",
       "      <td>875435.956266</td>\n",
       "      <td>107204.522978</td>\n",
       "      <td>1.474192e+06</td>\n",
       "    </tr>\n",
       "  </tbody>\n",
       "</table>\n",
       "<p>1 rows × 2331 columns</p>\n",
       "</div>"
      ],
      "text/plain": [
       "freqBand  slice    -2301000.0     -2196000.0     -2136000.0     -2036000.0  \\\n",
       "0             1  1.474192e+06  107204.522978  875435.956266  810488.178284   \n",
       "\n",
       "freqBand    -1977000.0    -1926000.0     -1902000.0     -1880000.0  \\\n",
       "0         1.292834e+06  18647.151233  330075.586474 -410565.546199   \n",
       "\n",
       "freqBand    -1873000.0      ...           1825000.0     1872000.0  \\\n",
       "0         1.466826e+06      ...       608339.812843  1.466826e+06   \n",
       "\n",
       "freqBand      1879000.0      1901000.0     1925000.0     1976000.0  \\\n",
       "0        -410565.546199  330075.586474  18647.151233  1.292834e+06   \n",
       "\n",
       "freqBand      2035000.0      2135000.0      2195000.0     2300000.0  \n",
       "0         810488.178284  875435.956266  107204.522978  1.474192e+06  \n",
       "\n",
       "[1 rows x 2331 columns]"
      ]
     },
     "execution_count": 123,
     "metadata": {},
     "output_type": "execute_result"
    }
   ],
   "source": [
    "dat[\"freqBand\"] = dat.frequency.map(lambda x: np.floor(x /1000) * 1000)\n",
    "\n",
    "dat2 = dat.dropna().groupby(\"freqBand\").mean().reset_index()\n",
    "dat2\n",
    "dat3 = dat2.pivot(values='amplitude', index='slice', columns = 'freqBand')\n",
    "dat3.reset_index()\n",
    "\n",
    "# dat2\n",
    "# table = pd.pivot_table(dat2, values='amplitude', columns='freqBand', aggfunc=np.sum)\n",
    "# table"
   ]
  },
  {
   "cell_type": "code",
   "execution_count": 125,
   "metadata": {
    "collapsed": false
   },
   "outputs": [],
   "source": [
    "# Read in a WAV and find the freq's\n",
    "import pyaudio\n",
    "import wave\n",
    "import numpy as np\n",
    "\n",
    "chunk = 2048\n",
    "\n",
    "# open up a wave\n",
    "wf = wave.open('a2002011001-e02.wav', 'rb')\n",
    "swidth = wf.getsampwidth()\n",
    "RATE = wf.getframerate()\n",
    "# use a Blackman window\n",
    "window = np.blackman(chunk)\n",
    "# open stream\n",
    "p = pyaudio.PyAudio()\n",
    "stream = p.open(format =\n",
    "                p.get_format_from_width(wf.getsampwidth()),\n",
    "                channels = wf.getnchannels(),\n",
    "                rate = RATE,\n",
    "                output = True)\n",
    "\n",
    "# read some data\n",
    "data = wf.readframes(chunk)\n",
    "# play stream and find the frequency of each chunk\n",
    "while len(data) == chunk*swidth:\n",
    "    # write data out to the audio stream\n",
    "    stream.write(data)\n",
    "    # unpack the data and times by the hamming window\n",
    "    indata = np.array(wave.struct.unpack(\"%dh\"%(len(data)/swidth),\\\n",
    "                                         data))*window\n",
    "    # Take the fft and square each value\n",
    "    fftData=abs(np.fft.rfft(indata))**2\n",
    "    # find the maximum\n",
    "    which = fftData[1:].argmax() + 1\n",
    "    # use quadratic interpolation around the max\n",
    "    if which != len(fftData)-1:\n",
    "        y0,y1,y2 = np.log(fftData[which-1:which+2:])\n",
    "        x1 = (y2 - y0) * .5 / (2 * y1 - y2 - y0)\n",
    "        # find the frequency and output it\n",
    "        thefreq = (which+x1)*RATE/chunk\n",
    "        print \"The freq is %f Hz.\" % (thefreq)\n",
    "    else:\n",
    "        thefreq = which*RATE/chunk\n",
    "        print \"The freq is %f Hz.\" % (thefreq)\n",
    "    # read some more data\n",
    "    data = wf.readframes(chunk)\n",
    "if data:\n",
    "    stream.write(data)\n",
    "stream.close()\n",
    "p.terminate()"
   ]
  },
  {
   "cell_type": "code",
   "execution_count": 135,
   "metadata": {
    "collapsed": false
   },
   "outputs": [
    {
     "data": {
      "text/plain": [
       "22026.465794806718"
      ]
     },
     "execution_count": 135,
     "metadata": {},
     "output_type": "execute_result"
    }
   ],
   "source": [
    "math.exp(10)"
   ]
  },
  {
   "cell_type": "code",
   "execution_count": null,
   "metadata": {
    "collapsed": true
   },
   "outputs": [],
   "source": []
  }
 ],
 "metadata": {
  "kernelspec": {
   "display_name": "Python [Root]",
   "language": "python",
   "name": "Python [Root]"
  },
  "language_info": {
   "codemirror_mode": {
    "name": "ipython",
    "version": 2
   },
   "file_extension": ".py",
   "mimetype": "text/x-python",
   "name": "python",
   "nbconvert_exporter": "python",
   "pygments_lexer": "ipython2",
   "version": "2.7.12"
  }
 },
 "nbformat": 4,
 "nbformat_minor": 0
}
