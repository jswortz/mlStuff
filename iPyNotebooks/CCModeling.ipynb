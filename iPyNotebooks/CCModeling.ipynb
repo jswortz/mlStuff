{
 "metadata": {
  "name": "",
  "signature": "sha256:8b6623bbca423d1b096ac58b62e7992e7dce8740951171c35ad805e2a0a9f0af"
 },
 "nbformat": 3,
 "nbformat_minor": 0,
 "worksheets": [
  {
   "cells": [
    {
     "cell_type": "markdown",
     "metadata": {},
     "source": [
      "#Cableco Modeling July 2016\n",
      "##Goal:\n",
      "\n",
      "* Find the best toggle configuation\n",
      "* By demographics   \n",
      "* By transactional elements  "
     ]
    },
    {
     "cell_type": "markdown",
     "metadata": {},
     "source": [
      "#Find classifier target - first module which customer expereienced self service event"
     ]
    },
    {
     "cell_type": "code",
     "collapsed": false,
     "input": [
      "firstSSModule = sqlContext.sql(\"select call_id, first_value(program_object_name) over \"\\\n",
      "                               \"(partition by call_id order by sequence_number) from \"\\\n",
      "                               \"analysis.detailed_tier_analysis where client_billing_tier_code = 'Tier 1' \"\\\n",
      "                               \"and call_exit_type not in ('networkxfer') limit 1000\")\n",
      "firstSSModule.take(5)"
     ],
     "language": "python",
     "metadata": {},
     "outputs": [
      {
       "metadata": {},
       "output_type": "pyout",
       "prompt_number": 4,
       "text": [
        "[Row(call_id=31731437878688, _c1=u'CALLERINTENT'),\n",
        " Row(call_id=31731437878688, _c1=u'CALLERINTENT'),\n",
        " Row(call_id=31731437878688, _c1=u'CALLERINTENT'),\n",
        " Row(call_id=31741437416634, _c1=u'BILLING'),\n",
        " Row(call_id=31741437416634, _c1=u'BILLING')]"
       ]
      }
     ],
     "prompt_number": 4
    },
    {
     "cell_type": "markdown",
     "metadata": {},
     "source": [
      "#Create toggle and API data, along with T1, T2 targets"
     ]
    },
    {
     "cell_type": "code",
     "collapsed": false,
     "input": [
      "#toggle inputs\n",
      "\n",
      "toggleCols = \"access_mop_data, active_chk, agent_block, ani_confirm, appt_cancel_ani_block, appt_last_24_hrs, \"\\\n",
      "                \"appt_module, appt_questions, appt_reschedule, appt_reschedule_ani_block, appt_submit_sms, billing_module,\"\\\n",
      "                \"call_soft_disco_routing, delinquent, disabled_equip, disconnected_account, ecobill, espn_full_court, eta_callback\"\\\n",
      "                \", etr, false_alarm_tech, fulfillment, home_alarm_tech, home_and_waiting, interdivision_moving, internet_usage, \"\\\n",
      "                \"language_preference, mailing_address, mlb_direct_kick, mlb_xtra_innings, modem_reset, modem_reset_last_call,\"\\\n",
      "                \"mpeg4_business, nhl_center_ice, outage_sms, pre_nonpay, prepaid_service, promise_to_pay_offer, rapid_resolve, \"\\\n",
      "                \"rec_disclosure_startofcall, rec_disclosure_transfer, remote_programming_sms, sales_repeat, same_day_payment, \"\\\n",
      "                \"self_service, speed_increase, store_mop, targus, tech_module, trans_soft_disco_routing, vip, voc_offer, vtn, \"\\\n",
      "                \"web_ref, wireless_gateway, x1_guide, xi3\"\n",
      "\n",
      "response = sqlContext.sql(\"select c.call_Id, division, market, region, service_type, case \"\\\n",
      "                          \"when flag_ss = 1 then 'tier1' when flag_infd = 1 then 't1_infd' end as target, \"\\\n",
      "                          \" \" + apiData + \" from (select CAST(CONCAT(LPAD(CAST(line AS string), 3, '0'), \"\\\n",
      "                          \"LPAD(CAST(unit AS string), 4, '0'), CAST(parent_time AS string))  AS BIGINT) AS id, \" \\\n",
      "                          \" xml_tag_value from analysis.transaction_data_response \"\\\n",
      "                          \"where yyyymmdd not in (20160606, 20160711) and yyyymmdd = 20160615) b   \"\\\n",
      "                          \"join analysis.call_tier_analysis c on b.id = c.call_id \"\\\n",
      "                          \" where yyyymm = 201606 and division is not null limit 1000\").cache()\n",
      "\n",
      "response.show(10)\n",
      "\n",
      "#examine the top response records - also look to where we can find zip +4\n",
      "#Sqooping demographics from Oracle - see sqoop script"
     ],
     "language": "python",
     "metadata": {},
     "outputs": [
      {
       "output_type": "stream",
       "stream": "stdout",
       "text": [
        "+-------+--------+------+------+------------+------+---------------+----------+-----------------+-----------------+-----------------+-----------+-----------+---------------------+----------------+-----------+--------------+---------------+-------------------------+---------------+--------------+-----------+-------------+-----------------------+----------+--------------+--------------------+-------+------------------+---------------+------------+---+----------------+-----------+---------------+---------------+----------------+--------------------+--------------+-------------------+---------------+------------------+---------------+----------------+-----------+---------------------+--------------+--------------+----------------+----------+--------------+-----------+---------------+----------+---------------+--------------------+----------+----------------+-------------+--------------------------+-----------------------+----------------------+-------------+------------------+------------+----------------+--------------------+------------+----------+--------------+--------+---------+------+-----------+---------------+---------------+---------------+------------------------+------+---+---------+---+-------+----------------+--------+---+----------------+--------------+--------------+----------+----------+--------+-------------+\n",
        "|call_Id|division|market|region|service_type|target|access_mop_data|active_chk|active_repeat_cdv|active_repeat_hsi|active_repeat_vid|agent_block|ani_confirm|appt_cancel_ani_block|appt_last_24_hrs|appt_module|appt_questions|appt_reschedule|appt_reschedule_ani_block|appt_submit_sms|billing_module|billing_sms|call_blocking|call_soft_disco_routing|delinquent|disabled_equip|disconnected_account|ecobill|email_password_sms|espn_full_court|eta_callback|etr|false_alarm_tech|fulfillment|future_appt_sms|home_alarm_tech|home_and_waiting|interdivision_moving|internet_usage|language_preference|mailing_address|max_error_transfer|mlb_direct_kick|mlb_xtra_innings|modem_reset|modem_reset_last_call|mpeg4_business|nhl_center_ice|nonserv_transfer|outage_sms|payment_module|payment_sms|pending_payment|pre_nonpay|prepaid_service|promise_to_pay_offer|promo_roll|promo_roll_sales|rapid_resolve|rec_disclosure_startofcall|rec_disclosure_transfer|remote_programming_sms|repeat_abuser|repeat_abuser_list|sales_repeat|same_day_payment|same_day_payment_sms|self_service|sms_outage|speed_increase|ssn_auth|store_mop|targus|tech_module|tech_repeat_cdv|tech_repeat_hsi|tech_repeat_vid|trans_soft_disco_routing|triage|vip|voc_offer|vtn|web_ref|wireless_gateway|x1_guide|xi3|statementBalance|currentBalance|daysDelinquent|hasOutages|signalType|zipCode5|accountStatus|\n",
        "+-------+--------+------+------+------------+------+---------------+----------+-----------------+-----------------+-----------------+-----------+-----------+---------------------+----------------+-----------+--------------+---------------+-------------------------+---------------+--------------+-----------+-------------+-----------------------+----------+--------------+--------------------+-------+------------------+---------------+------------+---+----------------+-----------+---------------+---------------+----------------+--------------------+--------------+-------------------+---------------+------------------+---------------+----------------+-----------+---------------------+--------------+--------------+----------------+----------+--------------+-----------+---------------+----------+---------------+--------------------+----------+----------------+-------------+--------------------------+-----------------------+----------------------+-------------+------------------+------------+----------------+--------------------+------------+----------+--------------+--------+---------+------+-----------+---------------+---------------+---------------+------------------------+------+---+---------+---+-------+----------------+--------+---+----------------+--------------+--------------+----------+----------+--------+-------------+\n",
        "+-------+--------+------+------+------------+------+---------------+----------+-----------------+-----------------+-----------------+-----------+-----------+---------------------+----------------+-----------+--------------+---------------+-------------------------+---------------+--------------+-----------+-------------+-----------------------+----------+--------------+--------------------+-------+------------------+---------------+------------+---+----------------+-----------+---------------+---------------+----------------+--------------------+--------------+-------------------+---------------+------------------+---------------+----------------+-----------+---------------------+--------------+--------------+----------------+----------+--------------+-----------+---------------+----------+---------------+--------------------+----------+----------------+-------------+--------------------------+-----------------------+----------------------+-------------+------------------+------------+----------------+--------------------+------------+----------+--------------+--------+---------+------+-----------+---------------+---------------+---------------+------------------------+------+---+---------+---+-------+----------------+--------+---+----------------+--------------+--------------+----------+----------+--------+-------------+\n",
        "\n"
       ]
      }
     ],
     "prompt_number": 8
    },
    {
     "cell_type": "markdown",
     "metadata": {},
     "source": [
      "##next, try to parse out the zipcode info for joining to demographic data and recode the toggles to a -1, 1 config for the sake of introducing interaction factors"
     ]
    },
    {
     "cell_type": "code",
     "collapsed": false,
     "input": [
      "##Axiom join code here - still need to import from Oracle thru Sqoop\n",
      "response.take(10)"
     ],
     "language": "python",
     "metadata": {},
     "outputs": [
      {
       "metadata": {},
       "output_type": "pyout",
       "prompt_number": 7,
       "text": [
        "[]"
       ]
      }
     ],
     "prompt_number": 7
    },
    {
     "cell_type": "markdown",
     "metadata": {},
     "source": [
      "#Below are the regexp for selection of toggle and API data Run this First!!!!"
     ]
    },
    {
     "cell_type": "code",
     "collapsed": false,
     "input": [
      "apiData = \"regexp_extract(xml_tag_value, 'PAYMENTS,toggle,access_mop_data=(ON|OFF)', 1) AS  access_mop_data,\"\\\n",
      "\"regexp_extract(xml_tag_value, 'ACTIVATION,toggle,activation_check=(ON|OFF)', 1) AS active_chk, \"\\\n",
      "\"regexp_extract(xml_tag_value, 'ACTIVATION,toggle,activation_repeat_cdv=(ON|OFF)', 1) AS active_repeat_cdv, \"\\\n",
      "\"regexp_extract(xml_tag_value, 'ACTIVATION,toggle,activation_repeat_hsi=(ON|OFF)', 1) AS active_repeat_hsi, \"\\\n",
      "\"regexp_extract(xml_tag_value, 'ACTIVATION,toggle,activation_repeat_vid=(ON|OFF)', 1) AS active_repeat_vid, \"\\\n",
      "\"regexp_extract(xml_tag_value, 'OUTAGE,toggle,agent_block=(ON|OFF)', 1) AS  agent_block, \"\\\n",
      "\"regexp_extract(xml_tag_value, 'CALLERID,toggle,ANI_Confirm=(ON|OFF)', 1) AS  ani_confirm, \"\\\n",
      "\"regexp_extract(xml_tag_value, 'APPOINTMENTS,toggle,appointment_cancel_ani_block=(ON|OFF)', 1) AS appt_cancel_ani_block, \"\\\n",
      "\"regexp_extract(xml_tag_value, 'APPOINTMENTS,toggle,appointment_last_24_hrs=(ON|OFF)', 1) AS appt_last_24_hrs, \"\\\n",
      "\"regexp_extract(xml_tag_value, 'APPOINTMENTS,toggle,appointments_module=(ON|OFF)', 1) AS appt_module, \"\\\n",
      "\"regexp_extract(xml_tag_value, 'APPOINTMENTS,toggle,appointment_questions=(ON|OFF)', 1) AS appt_questions, \"\\\n",
      "\"regexp_extract(xml_tag_value, 'APPOINTMENTS,toggle,appointment_reschedule=(ON|OFF)', 1) AS appt_reschedule, \"\\\n",
      "\"regexp_extract(xml_tag_value, 'APPOINTMENTS,toggle,appointment_reschedule_ani_block=(ON|OFF)', 1) AS appt_reschedule_ani_block, \"\\\n",
      "\"regexp_extract(xml_tag_value, 'APPOINTMENTS,toggle,appointment_submit_sms=(ON|OFF)', 1) AS appt_submit_sms, \"\\\n",
      "\"regexp_extract(xml_tag_value, 'BILLING,toggle,billing_module=(ON|OFF)', 1) AS billing_module, \"\\\n",
      "\"regexp_extract(xml_tag_value, 'BILLING,toggle,billing_sms=(ON|OFF)', 1) AS billing_sms, \"\\\n",
      "\"regexp_extract(xml_tag_value, 'CALLERID,toggle,call_blocking=(ON|OFF)', 1) AS  call_blocking, \"\\\n",
      "\"regexp_extract(xml_tag_value, 'CALLERINTENT,toggle,soft_disco_routing=(ON|OFF)', 1) AS  call_soft_disco_routing, \"\\\n",
      "\"regexp_extract(xml_tag_value, 'CALLERINTENT,toggle,delinquent=(ON|OFF)', 1) AS  delinquent, \"\\\n",
      "\"regexp_extract(xml_tag_value, 'CALLERINTENT,toggle,disabled_equip=(ON|OFF)', 1) AS  disabled_equip, \"\\\n",
      "\"regexp_extract(xml_tag_value, 'CALLERINTENT,toggle,disconnected_account=(ON|OFF)', 1) AS  disconnected_account, \"\\\n",
      "\"regexp_extract(xml_tag_value, 'BILLING,toggle,ecoBill=(ON|OFF)', 1) AS ecobill, \"\\\n",
      "\"regexp_extract(xml_tag_value, 'TECHNICAL,toggle,emailPasswordSMS=(ON|OFF)', 1) AS  email_password_sms, \"\\\n",
      "\"regexp_extract(xml_tag_value, 'SALES,toggle,ESPN_Full_Court=(ON|OFF)', 1) AS  espn_full_court, \"\\\n",
      "\"regexp_extract(xml_tag_value, 'APPOINTMENTS,toggle,eta_callback=(ON|OFF)', 1) AS eta_callback, \"\\\n",
      "\"regexp_extract(xml_tag_value, 'OUTAGE,toggle,etr=(ON|OFF)', 1) AS  etr, \"\\\n",
      "\"regexp_extract(xml_tag_value, 'TECHNICAL,toggle,false_alarm_technical=(ON|OFF)', 1) AS  false_alarm_tech, \"\\\n",
      "\"regexp_extract(xml_tag_value, 'SALES,toggle,fulfillment=(ON|OFF)', 1) AS  fulfillment, \"\\\n",
      "\"regexp_extract(xml_tag_value, 'APPOINTMENTS,toggle,future_appointment_sms=(ON|OFF)', 1) AS future_appt_sms, \"\\\n",
      "\"regexp_extract(xml_tag_value, 'TECHNICAL,toggle,home_alarm_technical=(ON|OFF)', 1) AS  home_alarm_tech, \"\\\n",
      "\"regexp_extract(xml_tag_value, 'APPOINTMENTS,toggle,home_and_waiting=(ON|OFF)', 1) AS home_and_waiting, \"\\\n",
      "\"regexp_extract(xml_tag_value, 'SALES,toggle,interdivision_moving=(ON|OFF)', 1) AS  interdivision_moving, \"\\\n",
      "\"regexp_extract(xml_tag_value, 'CALLERINTENT,toggle,internet_usage=(ON|OFF)', 1) AS  internet_usage, \"\\\n",
      "\"regexp_extract(xml_tag_value, 'CALLERID,toggle,language_preference=(ON|OFF)', 1) AS  language_preference, \"\\\n",
      "\"regexp_extract(xml_tag_value, 'BILLING,toggle,mailing_address_toggle=(ON|OFF)', 1) AS mailing_address, \"\\\n",
      "\"regexp_extract(xml_tag_value, 'GLOBAL,toggle,max_error_transfer=(ON|OFF)', 1) AS  max_error_transfer, \"\\\n",
      "\"regexp_extract(xml_tag_value, 'SALES,toggle,MLS_Direct_Kick=(ON|OFF)', 1) AS  mlb_direct_kick, \"\\\n",
      "\"regexp_extract(xml_tag_value, 'SALES,toggle,MLB_Extra_Innings=(ON|OFF)', 1) AS  mlb_xtra_innings, \"\\\n",
      "\"regexp_extract(xml_tag_value, 'TECHNICAL,toggle,modem_reset=(ON|OFF)', 1) AS  modem_reset, \"\\\n",
      "\"regexp_extract(xml_tag_value, 'CALLERINTENT,toggle,modem_reset_last_call=(ON|OFF)', 1) AS  modem_reset_last_call, \"\\\n",
      "\"regexp_extract(xml_tag_value, 'CALLERINTENT,toggle,mpeg4Business=(ON|OFF)', 1) AS  mpeg4_business, \"\\\n",
      "\"regexp_extract(xml_tag_value, 'SALES,toggle,NHL_Center_Ice=(ON|OFF)', 1) AS  nhl_center_ice, \"\\\n",
      "\"regexp_extract(xml_tag_value, 'CALLERID,toggle,nonserv_transfer=(ON|OFF)', 1) AS  nonserv_transfer, \"\\\n",
      "\"regexp_extract(xml_tag_value, 'OUTAGE,toggle,outage_sms=(ON|OFF)', 1) AS  outage_sms, \"\\\n",
      "\"regexp_extract(xml_tag_value, 'PAYMENTS,toggle,payments_module=(ON|OFF)', 1) AS  payment_module, \"\\\n",
      "\"regexp_extract(xml_tag_value, 'PAYMENTS,toggle,payment_sms=(ON|OFF)', 1) AS  payment_sms, \"\\\n",
      "\"regexp_extract(xml_tag_value, 'CALLERINTENT,toggle,pending_payment=(ON|OFF)', 1) AS  pending_payment, \"\\\n",
      "\"regexp_extract(xml_tag_value, 'CALLERINTENT,toggle,pre_nonpay=(ON|OFF)', 1) AS  pre_nonpay, \"\\\n",
      "\"regexp_extract(xml_tag_value, 'CALLERINTENT,toggle,prepaid_service=(ON|OFF)', 1) AS  prepaid_service, \"\\\n",
      "\"regexp_extract(xml_tag_value, 'CALLERINTENT,toggle,promise_to_pay=(ON|OFF)', 1) AS  promise_to_pay_offer, \"\\\n",
      "\"regexp_extract(xml_tag_value, 'BILLING,toggle,promo_roll=(ON|OFF)', 1) AS promo_roll, \"\\\n",
      "\"regexp_extract(xml_tag_value, 'SALES,toggle,promo_roll_sales=(ON|OFF)', 1) AS  promo_roll_sales, \"\\\n",
      "\"regexp_extract(xml_tag_value, 'TECHNICAL,toggle,rapid_resolve=(ON|OFF)', 1) AS  rapid_resolve, \"\\\n",
      "\"regexp_extract(xml_tag_value, 'GLOBAL,toggle,rec_disclosure_startOfCall=(ON|OFF)', 1) AS  rec_disclosure_startofcall, \"\\\n",
      "\"regexp_extract(xml_tag_value, 'GLOBAL,toggle,rec_disclosure_transfer=(ON|OFF)', 1) AS  rec_disclosure_transfer, \"\\\n",
      "\"regexp_extract(xml_tag_value, 'TECHNICAL,toggle,remote_programming_sms=(ON|OFF)', 1) AS  remote_programming_sms, \"\\\n",
      "\"regexp_extract(xml_tag_value, 'CALLERID,toggle,repeat_abuser=(ON|OFF)', 1) AS  repeat_abuser, \"\\\n",
      "\"regexp_extract(xml_tag_value, 'CALLERID,toggle,repeat_abuser_list=(ON|OFF)', 1) AS  repeat_abuser_list, \"\\\n",
      "\"regexp_extract(xml_tag_value, 'SALES,toggle,sales_repeat=(ON|OFF)', 1) AS  sales_repeat, \"\\\n",
      "\"regexp_extract(xml_tag_value, 'CALLERINTENT,toggle,sameday_payment=(ON|OFF)', 1) AS  same_day_payment, \"\\\n",
      "\"regexp_extract(xml_tag_value, 'CALLERINTENT,toggle,same_day_payment_sms=(ON|OFF)', 1) AS  same_day_payment_sms, \"\\\n",
      "\"regexp_extract(xml_tag_value, 'BILLING,toggle,self_service=(ON|OFF)', 1) AS self_service, \"\\\n",
      "\"regexp_extract(xml_tag_value, 'CALLERINTENT,toggle,sms_outage=(ON|OFF)', 1) AS  sms_outage, \"\\\n",
      "\"regexp_extract(xml_tag_value, 'CALLERINTENT,toggle,speed_Increase=(ON|OFF)', 1) AS  speed_increase, \"\\\n",
      "\"regexp_extract(xml_tag_value, 'TRANSFER,toggle,ssn_authorization=(ON|OFF)', 1) AS  ssn_auth, \"\\\n",
      "\"regexp_extract(xml_tag_value, 'PAYMENTS,toggle,store_mop=(ON|OFF)', 1) AS  store_mop, \"\\\n",
      "\"regexp_extract(xml_tag_value, 'CALLERID,toggle,targus=(ON|OFF)', 1) AS  targus, \"\\\n",
      "\"regexp_extract(xml_tag_value, 'TECHNICAL,toggle,technical_module=(ON|OFF)', 1) AS  tech_module, \"\\\n",
      "\"regexp_extract(xml_tag_value, 'TECHNICAL,toggle,technical_repeat_cdv=(ON|OFF)', 1) AS  tech_repeat_cdv, \"\\\n",
      "\"regexp_extract(xml_tag_value, 'TECHNICAL,toggle,technical_repeat_hsi=(ON|OFF)', 1) AS  tech_repeat_hsi, \"\\\n",
      "\"regexp_extract(xml_tag_value, 'TECHNICAL,toggle,technical_repeat_vid=(ON|OFF)', 1) AS  tech_repeat_vid, \"\\\n",
      "\"regexp_extract(xml_tag_value, 'TRANSFER,toggle,soft_disco_routing=(ON|OFF)', 1) AS  trans_soft_disco_routing, \"\\\n",
      "\"regexp_extract(xml_tag_value, 'TRANSFER,toggle,triage=(ON|OFF)', 1) AS  triage, \"\\\n",
      "\"regexp_extract(xml_tag_value, 'CALLERID,toggle,vip=(ON|OFF)', 1) AS  vip, \"\\\n",
      "\"regexp_extract(xml_tag_value, 'TRANSFER,toggle,voc=(ON|OFF)', 1) AS  voc_offer, \"\\\n",
      "\"regexp_extract(xml_tag_value, 'OUTAGE,toggle,VTN=(ON|OFF)', 1) AS  vtn, \"\\\n",
      "\"regexp_extract(xml_tag_value, 'OUTAGE,toggle,web_ref=(ON|OFF)', 1) AS  web_ref, \"\\\n",
      "\"regexp_extract(xml_tag_value, 'TECHNICAL,toggle,wireless_gateway=(ON|OFF)', 1) AS  wireless_gateway, \"\\\n",
      "\"regexp_extract(xml_tag_value, 'TECHNICAL,toggle,x1_guide=(ON|OFF)', 1) AS  x1_guide, \"\\\n",
      "\"regexp_extract(xml_tag_value, 'TECHNICAL,toggle,XI3=(ON|OFF)', 1) AS  xi3,\"\\\n",
      "\"regexp_extract(xml_tag_value, 'statementBalance=(.+),', 1) as statementBalance,\"\\\n",
      "\"regexp_extract(xml_tag_value, 'currentBalance=(.+),', 1) as currentBalance,\"\\\n",
      "\"regexp_extract(xml_tag_value, 'daysDelinquent=(.+),', 1) as daysDelinquent,\"\\\n",
      "\"regexp_extract(xml_tag_value, 'hasOutages=(.+),', 1) as hasOutages,\"\\\n",
      "\"regexp_extract(xml_tag_value, 'signalType=(.+),', 1) as signalType,\"\\\n",
      "\"regexp_extract(xml_tag_value, 'zipCode5=(.+),', 1) as zipCode5,\"\\\n",
      "\"regexp_extract(xml_tag_value, 'accountStatus=(.+),', 1) as accountStatus\""
     ],
     "language": "python",
     "metadata": {},
     "outputs": [],
     "prompt_number": 2
    }
   ],
   "metadata": {}
  }
 ]
}